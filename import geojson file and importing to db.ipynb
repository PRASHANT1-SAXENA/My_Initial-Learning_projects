{
 "cells": [
  {
   "cell_type": "code",
   "execution_count": null,
   "id": "f951967c",
   "metadata": {},
   "outputs": [],
   "source": [
    "from osgeo import gdal\n",
    "import geoalchemy2"
   ]
  },
  {
   "cell_type": "code",
   "execution_count": null,
   "id": "2f83224c",
   "metadata": {},
   "outputs": [],
   "source": [
    "data = gdal.OpenEx('mymade.geojson')"
   ]
  },
  {
   "cell_type": "code",
   "execution_count": null,
   "id": "8b412347",
   "metadata": {},
   "outputs": [],
   "source": [
    "x = gdal.VectorTranslate('shmymade.shp', data, format='ESRI Shapefile')"
   ]
  },
  {
   "cell_type": "code",
   "execution_count": null,
   "id": "b22e8f20",
   "metadata": {},
   "outputs": [],
   "source": []
  },
  {
   "cell_type": "code",
   "execution_count": null,
   "id": "88a03f7c",
   "metadata": {},
   "outputs": [],
   "source": [
    "import geopandas as gpd\n",
    "import geoalchemy2\n"
   ]
  },
  {
   "cell_type": "code",
   "execution_count": null,
   "id": "fce54a46",
   "metadata": {},
   "outputs": [],
   "source": [
    "gdf = gpd.read_file(r\"C:\\Users\\chemi\\Desktop\\my made.geojson\")"
   ]
  },
  {
   "cell_type": "code",
   "execution_count": null,
   "id": "93e32948",
   "metadata": {},
   "outputs": [],
   "source": [
    "gdf.to_file('file.shp')"
   ]
  },
  {
   "cell_type": "markdown",
   "id": "8c4c0b72",
   "metadata": {},
   "source": [
    "# Importing shapefile to postgres"
   ]
  },
  {
   "cell_type": "code",
   "execution_count": null,
   "id": "e5922066",
   "metadata": {},
   "outputs": [],
   "source": [
    "from sqlalchemy import create_engine\n",
    "import geopandas as  gpd\n",
    "import geoalchemy2\n"
   ]
  },
  {
   "cell_type": "code",
   "execution_count": null,
   "id": "29d39559",
   "metadata": {},
   "outputs": [],
   "source": [
    "\n",
    "user = \"postgres\"\n",
    "password = \"mnbvcxz1234567\"\n",
    "host = \"35.154.31.65\"\n",
    "port = 5432\n",
    "database = \"generic_db_ii\"\n",
    " \n",
    "conn = f\"postgresql://{user}:{password}@{host}:{port}/{database}\"\n",
    "engine = create_engine(conn)\n",
    " \n",
    "#Read shapefile using GeoPandas\n",
    "gdf = gpd.read_file(r\"C:\\Users\\chemi\\Desktop\\qgis\\roaddemo.shp\")\n",
    "\n",
    "\n"
   ]
  },
  {
   "cell_type": "code",
   "execution_count": null,
   "id": "ac2c7fc7",
   "metadata": {},
   "outputs": [],
   "source": [
    "#Import shapefile to databse\n",
    "gdf.to_postgis(name=\"road\", con=engine, schema=\"raw_data\")\n",
    " \n",
    "print(\"success\")"
   ]
  },
  {
   "cell_type": "code",
   "execution_count": null,
   "id": "526de624",
   "metadata": {},
   "outputs": [],
   "source": [
    "class QgisImport:\n",
    "    from sqlalchemy import create_engine\n",
    "    import geopandas as  gpd\n",
    "    import geoalchemy2\n",
    "    def importing(self,path):\n",
    "        user = \"postgres\"\n",
    "        password = \"mnbvcxz1234567\"\n",
    "        host = \"35.154.31.65\"\n",
    "        port = 5432\n",
    "        database = \"generic_db_ii\"\n",
    "        \n",
    "        conn = f\"postgresql://{user}:{password}@{host}:{port}/{database}\"\n",
    "        engine = create_engine(conn)\n",
    "        \n",
    "        #Read shapefile using GeoPandas\n",
    "        gdf = gpd.read_file(path)\n",
    "        \n",
    "        gdf.to_postgis(name=\"road\", con=engine, schema=\"raw_data\")\n",
    " \n",
    "        print(\"success\")"
   ]
  },
  {
   "cell_type": "code",
   "execution_count": 7,
   "id": "43556d8d",
   "metadata": {},
   "outputs": [
    {
     "name": "stdout",
     "output_type": "stream",
     "text": [
      "success\n"
     ]
    }
   ],
   "source": [
    "g=QgisImport()\n",
    "g.importing(r\"C:\\Users\\chemi\\Desktop\\qgis\\roaddemo.shp\")"
   ]
  }
 ],
 "metadata": {
  "kernelspec": {
   "display_name": "Python 3 (ipykernel)",
   "language": "python",
   "name": "python3"
  },
  "language_info": {
   "codemirror_mode": {
    "name": "ipython",
    "version": 3
   },
   "file_extension": ".py",
   "mimetype": "text/x-python",
   "name": "python",
   "nbconvert_exporter": "python",
   "pygments_lexer": "ipython3",
   "version": "3.9.13"
  }
 },
 "nbformat": 4,
 "nbformat_minor": 5
}
