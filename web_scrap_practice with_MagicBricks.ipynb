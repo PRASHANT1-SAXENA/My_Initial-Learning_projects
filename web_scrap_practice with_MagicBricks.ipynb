{
 "cells": [
  {
   "cell_type": "code",
   "execution_count": 1,
   "id": "7d947f62",
   "metadata": {},
   "outputs": [],
   "source": [
    "import requests\n",
    "import pandas as pd\n",
    "import numpy as np\n",
    "import requests\n",
    "from bs4 import BeautifulSoup\n",
    "import csv"
   ]
  },
  {
   "cell_type": "code",
   "execution_count": 2,
   "id": "3a458461",
   "metadata": {},
   "outputs": [
    {
     "name": "stdout",
     "output_type": "stream",
     "text": [
      "1 round, Id- 64055759\n",
      "2 round, Id- 64399585\n",
      "3 round, Id- 64200537\n",
      "4 round, Id- 64182611\n",
      "5 round, Id- 63173027\n",
      "6 round, Id- 64114755\n",
      "7 round, Id- 64020039\n",
      "8 round, Id- 64567139\n",
      "9 round, Id- 63924037\n",
      "10 round, Id- 19196165\n",
      "11 round, Id- 54841029\n",
      "12 round, Id- 64055061\n",
      "13 round, Id- 64321787\n",
      "14 round, Id- 61471581\n",
      "15 round, Id- 64743023\n",
      "16 round, Id- 64360087\n",
      "17 round, Id- 62717379\n",
      "18 round, Id- 64091347\n",
      "19 round, Id- 34183407\n",
      "got it\n",
      "64304115 64304115\n",
      "869\n",
      "page_end:  869\n"
     ]
    }
   ],
   "source": [
    "# last page count\n",
    "page_start=850\n",
    "group_range=(page_start*30)-30\n",
    "page_stop=900\n",
    "itera=1\n",
    "\n",
    "for pg in range(page_start,page_stop):\n",
    "    url=f\"https://www.magicbricks.com/mbsrp/propertySearch.html?editSearch=Y&category=R&propertyType=10002,10003,10021,10022,10020,10001,10017,10007,10018,10008,10009,10006,10012,10026,10011,10013,10014&city=3327&page={page_start}&groupstart={group_range}&offset=0&maxOffset=658&sortBy=premiumRecent&postedSince=-1&pType=10002,10003,10021,10022,10020,10001,10017&shared=Y&isNRI=N&multiLang=en\"\n",
    "    r=requests.get(url)\n",
    "    data=r.json()\n",
    "    a=[]\n",
    "    for result in data[\"resultList\"]:\n",
    "        a.append(result[\"id\"])\n",
    "    t1=a[0]\n",
    "    \n",
    "    url=f\"https://www.magicbricks.com/mbsrp/propertySearch.html?editSearch=Y&category=R&propertyType=10002,10003,10021,10022,10020,10001,10017,10007,10018,10008,10009,10006,10012,10026,10011,10013,10014&city=3327&page={page_start+1}&groupstart={group_range+30}&offset=0&maxOffset=658&sortBy=premiumRecent&postedSince=-1&pType=10002,10003,10021,10022,10020,10001,10017&shared=Y&isNRI=N&multiLang=en\"\n",
    "    r=requests.get(url)\n",
    "    data=r.json()\n",
    "    b=[]\n",
    "    for result in data[\"resultList\"]:\n",
    "        b.append(result[\"id\"])\n",
    "    t2=b[0]\n",
    "    if t1==t2:\n",
    "        print(\"got it\")\n",
    "        print(t1,t2)\n",
    "        print(page_start)\n",
    "        page_end=page_start\n",
    "        print(\"page_end: \",page_end)\n",
    "        break\n",
    "    else:\n",
    "        page_start=page_start+1\n",
    "        group_range=group_range+30\n",
    "        print(itera,\"round, Id-\",t1)\n",
    "        itera=itera+1\n",
    "        "
   ]
  },
  {
   "cell_type": "code",
   "execution_count": 3,
   "id": "4f44a5cd",
   "metadata": {},
   "outputs": [
    {
     "data": {
      "text/plain": [
       "869"
      ]
     },
     "execution_count": 3,
     "metadata": {},
     "output_type": "execute_result"
    }
   ],
   "source": [
    "page_end"
   ]
  },
  {
   "cell_type": "code",
   "execution_count": 3,
   "id": "3bf79559",
   "metadata": {},
   "outputs": [],
   "source": [
    "mgb = {\"unique_id\":[],\"City\":[],\"Property_Name\":[],\"Rent_price\":[],\"Property_Address\":[],\"CarpetArea\":[],\n",
    "       \"CarpetAreaUnit\":[],\"CoveredArea\":[],\"CoveredAreaUnit\":[],\"latitude\":[],\"longitude\":[],\"Post_date\":[],\"url\":[]}\n"
   ]
  },
  {
   "cell_type": "code",
   "execution_count": 6,
   "id": "fa0e4b7b",
   "metadata": {},
   "outputs": [
    {
     "name": "stdout",
     "output_type": "stream",
     "text": [
      "Page complete --  866\n"
     ]
    }
   ],
   "source": [
    "page_start=866\n",
    "group_range=(page_start*30)-30\n",
    "page_stop=867\n",
    "\n",
    "for pg in range(page_start,page_stop):\n",
    "    url=f\"https://www.magicbricks.com/mbsrp/propertySearch.html?editSearch=Y&category=R&propertyType=10002,10003,10021,10022,10020,10001,10017&bedrooms=11700,11701,11702,11703,11704,11705,11706,11707,11708,11709,11710&city=3327&page={page_start}&groupstart={group_range}&offset=0&maxOffset=658&sortBy=premiumRecent&postedSince=-1&pType=10002,10003,10021,10022,10020,10001,10017&shared=Y&isNRI=N&multiLang=en\"\n",
    "    r=requests.get(url)\n",
    "    data=r.json()\n",
    "    for result in data[\"resultList\"]:\n",
    "        try:\n",
    "            mgb[\"unique_id\"].append(result[\"id\"])\n",
    "        except:\n",
    "            mgb[\"unique_id\"].append(np.nan)\n",
    "         \n",
    "        try:\n",
    "            corr=result[\"ltcoordGeo\"].split(\",\")\n",
    "            mgb[\"latitude\"].append(corr[0])\n",
    "            mgb[\"longitude\"].append(corr[1])\n",
    "        except:\n",
    "            mgb[\"latitude\"].append(np.nan)\n",
    "            mgb[\"longitude\"].append(np.nan)\n",
    "            \n",
    "        try:\n",
    "            mgb[\"Rent_price\"].append(result[\"price\"])\n",
    "        except:\n",
    "            mgb[\"Rent_price\"].append(np.nan) \n",
    "            \n",
    "        try:\n",
    "            mgb[\"CarpetArea\"].append(result[\"carpetArea\"])\n",
    "            mgb[\"CarpetAreaUnit\"].append(\"Sq-ft\")\n",
    "        except:\n",
    "            mgb[\"CarpetArea\"].append(np.nan)\n",
    "            mgb[\"CarpetAreaUnit\"].append(np.nan)\n",
    "            \n",
    "        try:\n",
    "            mgb[\"CoveredArea\"].append(result[\"coveredArea\"])\n",
    "            mgb[\"CoveredAreaUnit\"].append(\"Sq-ft\")\n",
    "        except:\n",
    "            mgb[\"CoveredArea\"].append(np.nan)\n",
    "            mgb[\"CoveredAreaUnit\"].append(np.nan)\n",
    "        try:\n",
    "            mgb[\"City\"].append(result[\"ctName\"])\n",
    "        except:\n",
    "            mgb[\"City\"].append(np.nan)\n",
    "            \n",
    "        \n",
    "        try:\n",
    "            mgb[\"Property_Name\"].append(result[\"propertyTitle\"])\n",
    "        except:\n",
    "             mgb[\"Property_Name\"].append(np.nan)\n",
    "                \n",
    "        try:\n",
    "            fetch_url = result[\"url\"]\n",
    "            url_link = f\"https://www.magicbricks.com/propertyDetails/{fetch_url}\"\n",
    "            mgb[\"url\"].append(url_link)\n",
    "        except:\n",
    "             mgb[\"url\"].append(np.nan)\n",
    "\n",
    "        try:\n",
    "            r = requests.get(url_link).text\n",
    "            soup = BeautifulSoup(r, \"lxml\")\n",
    "            for i in range(0,5):\n",
    "                title=soup.find_all(\"div\", class_=\"mb-ldp__more-dtl__list--label\")[i].text\n",
    "                if title==\"Address\":\n",
    "                    address = soup.find_all(\"div\", class_=\"mb-ldp__more-dtl__list--value\")[i].text\n",
    "                    mgb[\"Property_Address\"].append(address)\n",
    "                    break\n",
    "                else:\n",
    "                   continue\n",
    "        except:\n",
    "            mgb[\"Property_Address\"].append(np.nan)\n",
    "            \n",
    "        try:\n",
    "            mgb[\"Post_date\"].append(result[\"postDateT\"][0:10])\n",
    "        except:\n",
    "            mgb[\"Post_date\"].append(np.nan)\n",
    "    print(\"Page complete -- \",page_start)\n",
    "    page_start=page_start+1    \n",
    "    group_range=group_range+30\n"
   ]
  },
  {
   "cell_type": "code",
   "execution_count": 2,
   "id": "035f4f86",
   "metadata": {},
   "outputs": [
    {
     "ename": "NameError",
     "evalue": "name 'mgb_f' is not defined",
     "output_type": "error",
     "traceback": [
      "\u001b[1;31m---------------------------------------------------------------------------\u001b[0m",
      "\u001b[1;31mNameError\u001b[0m                                 Traceback (most recent call last)",
      "Cell \u001b[1;32mIn [2], line 2\u001b[0m\n\u001b[0;32m      1\u001b[0m \u001b[38;5;28;01mfor\u001b[39;00m i \u001b[38;5;129;01min\u001b[39;00m \u001b[38;5;28mrange\u001b[39m(\u001b[38;5;241m15044\u001b[39m,\u001b[38;5;241m15060\u001b[39m):\n\u001b[1;32m----> 2\u001b[0m     r \u001b[38;5;241m=\u001b[39m requests\u001b[38;5;241m.\u001b[39mget(\u001b[43mmgb_f\u001b[49m[\u001b[38;5;124m\"\u001b[39m\u001b[38;5;124murl\u001b[39m\u001b[38;5;124m\"\u001b[39m][i])\u001b[38;5;241m.\u001b[39mtext\n\u001b[0;32m      3\u001b[0m     soup \u001b[38;5;241m=\u001b[39m BeautifulSoup(r, \u001b[38;5;124m\"\u001b[39m\u001b[38;5;124mlxml\u001b[39m\u001b[38;5;124m\"\u001b[39m)\n\u001b[0;32m      4\u001b[0m     \u001b[38;5;28;01mfor\u001b[39;00m i \u001b[38;5;129;01min\u001b[39;00m \u001b[38;5;28mrange\u001b[39m(\u001b[38;5;241m0\u001b[39m,\u001b[38;5;241m5\u001b[39m):\n",
      "\u001b[1;31mNameError\u001b[0m: name 'mgb_f' is not defined"
     ]
    }
   ],
   "source": [
    "# for i in range(15044,15060):\n",
    "    r = requests.get(mgb_f[\"url\"][i]).text\n",
    "    soup = BeautifulSoup(r, \"lxml\")\n",
    "    for i in range(0,5):\n",
    "        title=soup.find_all(\"div\", class_=\"mb-ldp__more-dtl__list--label\")[i].text\n",
    "        if title==\"Address\":\n",
    "            address = soup.find_all(\"div\", class_=\"mb-ldp__more-dtl__list--value\")[i].text\n",
    "            print(address)\n",
    "            print(mgb[\"Property_Address\"][i])\n",
    "            mgb[\"Property_Address\"][i]=address\n",
    "            print(mgb[\"Property_Address\"][i])\n",
    "            break\n",
    "        else:\n",
    "            continue"
   ]
  },
  {
   "cell_type": "code",
   "execution_count": null,
   "id": "93d8c072",
   "metadata": {},
   "outputs": [],
   "source": []
  },
  {
   "cell_type": "code",
   "execution_count": 7,
   "id": "eb98510c",
   "metadata": {},
   "outputs": [
    {
     "name": "stdout",
     "output_type": "stream",
     "text": [
      "shape--  (480, 13)\n",
      "\n",
      "duplicate unique_id -- 389\n"
     ]
    },
    {
     "data": {
      "text/html": [
       "<div>\n",
       "<style scoped>\n",
       "    .dataframe tbody tr th:only-of-type {\n",
       "        vertical-align: middle;\n",
       "    }\n",
       "\n",
       "    .dataframe tbody tr th {\n",
       "        vertical-align: top;\n",
       "    }\n",
       "\n",
       "    .dataframe thead th {\n",
       "        text-align: right;\n",
       "    }\n",
       "</style>\n",
       "<table border=\"1\" class=\"dataframe\">\n",
       "  <thead>\n",
       "    <tr style=\"text-align: right;\">\n",
       "      <th></th>\n",
       "      <th>unique_id</th>\n",
       "      <th>City</th>\n",
       "      <th>Property_Name</th>\n",
       "      <th>Rent_price</th>\n",
       "      <th>Property_Address</th>\n",
       "      <th>CarpetArea</th>\n",
       "      <th>CarpetAreaUnit</th>\n",
       "      <th>CoveredArea</th>\n",
       "      <th>CoveredAreaUnit</th>\n",
       "      <th>latitude</th>\n",
       "      <th>longitude</th>\n",
       "      <th>Post_date</th>\n",
       "      <th>url</th>\n",
       "    </tr>\n",
       "  </thead>\n",
       "  <tbody>\n",
       "    <tr>\n",
       "      <th>0</th>\n",
       "      <td>64071637</td>\n",
       "      <td>Bangalore</td>\n",
       "      <td>1BHK Residential House for Rent in Kalyan Nagar</td>\n",
       "      <td>900000</td>\n",
       "      <td>Kalyan Nagar, Bangalore - East, Karnataka</td>\n",
       "      <td>NaN</td>\n",
       "      <td>NaN</td>\n",
       "      <td>700</td>\n",
       "      <td>Sq-ft</td>\n",
       "      <td>13.027435</td>\n",
       "      <td>77.640075</td>\n",
       "      <td>2022-11-10</td>\n",
       "      <td>https://www.magicbricks.com/propertyDetails/1-...</td>\n",
       "    </tr>\n",
       "    <tr>\n",
       "      <th>1</th>\n",
       "      <td>64322071</td>\n",
       "      <td>Bangalore</td>\n",
       "      <td>1BHK Residential House for Rent in Vidyamanya ...</td>\n",
       "      <td>900000</td>\n",
       "      <td>Vidyamanya Nagar, Bangalore - West, Karnataka</td>\n",
       "      <td>NaN</td>\n",
       "      <td>NaN</td>\n",
       "      <td>600</td>\n",
       "      <td>Sq-ft</td>\n",
       "      <td>12.9915875</td>\n",
       "      <td>77.5004565</td>\n",
       "      <td>2022-11-24</td>\n",
       "      <td>https://www.magicbricks.com/propertyDetails/1-...</td>\n",
       "    </tr>\n",
       "    <tr>\n",
       "      <th>2</th>\n",
       "      <td>64322701</td>\n",
       "      <td>Bangalore</td>\n",
       "      <td>2BHK Multistorey Apartment for Rent in Begur Road</td>\n",
       "      <td>1000000</td>\n",
       "      <td>Begur Road, Bangalore - South, Karnataka</td>\n",
       "      <td>1165</td>\n",
       "      <td>Sq-ft</td>\n",
       "      <td>NaN</td>\n",
       "      <td>NaN</td>\n",
       "      <td>12.888731</td>\n",
       "      <td>77.625587</td>\n",
       "      <td>2022-11-24</td>\n",
       "      <td>https://www.magicbricks.com/propertyDetails/2-...</td>\n",
       "    </tr>\n",
       "    <tr>\n",
       "      <th>3</th>\n",
       "      <td>64323587</td>\n",
       "      <td>Bangalore</td>\n",
       "      <td>2BHK Residential House for Rent in Vijayanagar</td>\n",
       "      <td>1100000</td>\n",
       "      <td>no 9, 8th main, Sampige Layout, prshanthanagar...</td>\n",
       "      <td>1600</td>\n",
       "      <td>Sq-ft</td>\n",
       "      <td>NaN</td>\n",
       "      <td>NaN</td>\n",
       "      <td>12.9714</td>\n",
       "      <td>77.5436</td>\n",
       "      <td>2022-11-24</td>\n",
       "      <td>https://www.magicbricks.com/propertyDetails/2-...</td>\n",
       "    </tr>\n",
       "    <tr>\n",
       "      <th>4</th>\n",
       "      <td>64277111</td>\n",
       "      <td>Bangalore</td>\n",
       "      <td>2BHK Residential House for Rent in Ramamurthy ...</td>\n",
       "      <td>500000</td>\n",
       "      <td>Ramamurthy Nagar, Bangalore - East, Karnataka</td>\n",
       "      <td>NaN</td>\n",
       "      <td>NaN</td>\n",
       "      <td>800</td>\n",
       "      <td>Sq-ft</td>\n",
       "      <td>13.018755</td>\n",
       "      <td>77.678255</td>\n",
       "      <td>2022-11-22</td>\n",
       "      <td>https://www.magicbricks.com/propertyDetails/2-...</td>\n",
       "    </tr>\n",
       "  </tbody>\n",
       "</table>\n",
       "</div>"
      ],
      "text/plain": [
       "  unique_id       City                                      Property_Name  \\\n",
       "0  64071637  Bangalore    1BHK Residential House for Rent in Kalyan Nagar   \n",
       "1  64322071  Bangalore  1BHK Residential House for Rent in Vidyamanya ...   \n",
       "2  64322701  Bangalore  2BHK Multistorey Apartment for Rent in Begur Road   \n",
       "3  64323587  Bangalore     2BHK Residential House for Rent in Vijayanagar   \n",
       "4  64277111  Bangalore  2BHK Residential House for Rent in Ramamurthy ...   \n",
       "\n",
       "   Rent_price                                   Property_Address CarpetArea  \\\n",
       "0      900000          Kalyan Nagar, Bangalore - East, Karnataka        NaN   \n",
       "1      900000      Vidyamanya Nagar, Bangalore - West, Karnataka        NaN   \n",
       "2     1000000           Begur Road, Bangalore - South, Karnataka       1165   \n",
       "3     1100000  no 9, 8th main, Sampige Layout, prshanthanagar...       1600   \n",
       "4      500000      Ramamurthy Nagar, Bangalore - East, Karnataka        NaN   \n",
       "\n",
       "  CarpetAreaUnit CoveredArea CoveredAreaUnit    latitude   longitude  \\\n",
       "0            NaN         700           Sq-ft   13.027435   77.640075   \n",
       "1            NaN         600           Sq-ft  12.9915875  77.5004565   \n",
       "2          Sq-ft         NaN             NaN   12.888731   77.625587   \n",
       "3          Sq-ft         NaN             NaN     12.9714     77.5436   \n",
       "4            NaN         800           Sq-ft   13.018755   77.678255   \n",
       "\n",
       "    Post_date                                                url  \n",
       "0  2022-11-10  https://www.magicbricks.com/propertyDetails/1-...  \n",
       "1  2022-11-24  https://www.magicbricks.com/propertyDetails/1-...  \n",
       "2  2022-11-24  https://www.magicbricks.com/propertyDetails/2-...  \n",
       "3  2022-11-24  https://www.magicbricks.com/propertyDetails/2-...  \n",
       "4  2022-11-22  https://www.magicbricks.com/propertyDetails/2-...  "
      ]
     },
     "execution_count": 7,
     "metadata": {},
     "output_type": "execute_result"
    }
   ],
   "source": [
    "#Test\n",
    "pd.set_option(\"display.max_rows\",500)\n",
    "pd.set_option(\"display.max_columns\",500)\n",
    "mgb_f=pd.DataFrame(mgb)\n",
    "print(\"shape-- \",mgb_f.shape)\n",
    "print(\"\\nduplicate unique_id --\", mgb_f[\"unique_id\"].duplicated().sum())\n",
    "#mgb_f.head()\n",
    "#mgb_f.iloc[870:900,[0,4,12]]\n",
    "#mgb_f[\"Property_Address\"].isnull().sum()\n",
    "#mgb_f[mgb_f[\"Property_Address\"].isnull()==True]\n"
   ]
  },
  {
   "cell_type": "code",
   "execution_count": 8,
   "id": "1e80c8bd",
   "metadata": {},
   "outputs": [],
   "source": [
    "mgb_f.to_csv(\"‪magic_bricks_extract_851_to_866.csv\")"
   ]
  },
  {
   "cell_type": "code",
   "execution_count": 19,
   "id": "0f83e56d",
   "metadata": {},
   "outputs": [
    {
     "data": {
      "text/plain": [
       "Index(['unique_id', 'City', 'Property_Name', 'Rent_price', 'Property_Address',\n",
       "       'CarpetArea', 'CarpetAreaUnit', 'CoveredArea', 'CoveredAreaUnit',\n",
       "       'latitude', 'longitude', 'Post_date', 'url'],\n",
       "      dtype='object')"
      ]
     },
     "execution_count": 19,
     "metadata": {},
     "output_type": "execute_result"
    }
   ],
   "source": [
    "#Test\n",
    "mgb_f.columns"
   ]
  },
  {
   "cell_type": "code",
   "execution_count": 6,
   "id": "c7394121",
   "metadata": {},
   "outputs": [
    {
     "name": "stdout",
     "output_type": "stream",
     "text": [
      "3BHK Multistorey Apartment for Rent in Karle Zenith at Hebbal\n",
      "https://www.magicbricks.com/propertyDetails/3-BHK-1350-Sq-ft-Multistorey-Apartment-FOR-Rent-Hoskote-in-Bangalore-r1&id=4d423436303631303939\n",
      "https://www.magicbricks.com/propertyDetails/3-BHK-1890-Sq-ft-Multistorey-Apartment-FOR-Rent-Sena-Vihar-in-Bangalore&id=4d423631363234363431\n",
      "https://www.magicbricks.com/propertyDetails/3-BHK-3210-Sq-ft-Multistorey-Apartment-FOR-Rent-Hebbal-in-Bangalore&id=4d423634333034313135\n"
     ]
    }
   ],
   "source": [
    "#Test\n",
    "print(mgb[\"Property_Name\"][19])\n",
    "print(mgb[\"url\"][0])\n",
    "print(mgb[\"url\"][1])\n",
    "print(mgb[\"url\"][2])"
   ]
  },
  {
   "cell_type": "code",
   "execution_count": null,
   "id": "aebc5d15",
   "metadata": {},
   "outputs": [],
   "source": [
    "#Test\n",
    "pd.set_option(\"display.max_rows\",500)\n",
    "print(mgb_f.isna().sum())\n",
    "#Test\n",
    "for i,j in enumerate(mgb.keys()):\n",
    "    print(i,len(mgb[j]))"
   ]
  },
  {
   "cell_type": "code",
   "execution_count": 9,
   "id": "1a39d2d0",
   "metadata": {},
   "outputs": [],
   "source": [
    "mgb_f.to_csv(\"‪magic_bricks_extract_30_to_70.csv\")"
   ]
  },
  {
   "cell_type": "code",
   "execution_count": 14,
   "id": "b3912231",
   "metadata": {},
   "outputs": [
    {
     "name": "stdout",
     "output_type": "stream",
     "text": [
      "48000\n",
      "16000\n",
      "29500\n",
      "26000\n",
      "30000\n",
      "120000\n",
      "60000\n",
      "133000\n",
      "33000\n",
      "52000\n",
      "45000\n",
      "60000\n",
      "44500\n",
      "140000\n",
      "55000\n",
      "135000\n",
      "20000\n",
      "400000\n",
      "300000\n",
      "24000\n",
      "37000\n",
      "9000\n",
      "20000\n",
      "77000\n",
      "35000\n",
      "26000\n",
      "65000\n",
      "240000\n",
      "200000\n",
      "54000\n"
     ]
    }
   ],
   "source": [
    "url_2=\"https://www.magicbricks.com/mbsrp/propertySearch.html?editSearch=Y&category=R&propertyType=10002,10003,10021,10022,10020,10001,10017,10007,10018,10008,10009,10006,10012,10026,10011,10013,10014&bedrooms=11700,11701,11702,11703&city=3327&page=2&groupstart=30&offset=0&maxOffset=656&sortBy=premiumRecent&postedSince=-1&pType=10002,10003,10021,10022,10020,10001,10017,10007,10018,10008,10009,10006,10012,10026,10011,10013,10014&isNRI=N&multiLang=en\"\n",
    "url_1=\"https://www.magicbricks.com/mbsrp/propertySearch.html?editSearch=Y&category=R&propertyType=10002,10003,10021,10022,10020,10001,10017,10007,10018,10008,10009,10006,10012,10026,10011,10013,10014&bedrooms=11700,11701,11702,11703&city=3327&page=1&groupstart=0&offset=0&maxOffset=656&sortBy=premiumRecent&postedSince=-1&pType=10002,10003,10021,10022,10020,10001,10017,10007,10018,10008,10009,10006,10012,10026,10011,10013,10014&isNRI=N&multiLang=en\"\n",
    "ad=[]\n",
    "r=requests.get(url_2)\n",
    "data=r.json()\n",
    "for result in data[\"resultList\"]:\n",
    "    print(result[\"price\"])\n",
    "       "
   ]
  },
  {
   "cell_type": "code",
   "execution_count": null,
   "id": "30e626f0",
   "metadata": {},
   "outputs": [],
   "source": []
  },
  {
   "cell_type": "code",
   "execution_count": 60,
   "id": "1b966d3e",
   "metadata": {},
   "outputs": [
    {
     "name": "stdout",
     "output_type": "stream",
     "text": [
      "https://www.magicbricks.com/mbsrp/propertySearch.html?editSearch=Y&category=R&propertyType=10002,10003,10021,10022,10020,10001,10017,10007,10018,10008,10009,10006,10012,10026,10011,10013,10014&bedrooms=11700,11701,11702,11703&city=3327&page=890&groupstart=26670&offset=0&maxOffset=656&sortBy=premiumRecent&postedSince=-1&pType=10002,10003,10021,10022,10020,10001,10017,10007,10018,10008,10009,10006,10012,10026,10011,10013,10014&isNRI=N&multiLang=en\n",
      "\n"
     ]
    }
   ],
   "source": [
    "# Test\n",
    "page_start=890\n",
    "group_range=(page_start*30)-30\n",
    "page_stop=891\n",
    "\n",
    "for pg in range(page_start,page_stop):\n",
    "    url=f\"https://www.magicbricks.com/mbsrp/propertySearch.html?editSearch=Y&category=R&propertyType=10002,10003,10021,10022,10020,10001,10017,10007,10018,10008,10009,10006,10012,10026,10011,10013,10014&bedrooms=11700,11701,11702,11703&city=3327&page={page_start}&groupstart={group_range}&offset=0&maxOffset=656&sortBy=premiumRecent&postedSince=-1&pType=10002,10003,10021,10022,10020,10001,10017,10007,10018,10008,10009,10006,10012,10026,10011,10013,10014&isNRI=N&multiLang=en\\n\"\n",
    "   \n",
    "    page_start=page_start+1\n",
    "    group_range=group_range+30\n",
    "    print(url)"
   ]
  },
  {
   "cell_type": "code",
   "execution_count": null,
   "id": "8b6ffbd4",
   "metadata": {},
   "outputs": [],
   "source": []
  }
 ],
 "metadata": {
  "kernelspec": {
   "display_name": "Python 3 (ipykernel)",
   "language": "python",
   "name": "python3"
  },
  "language_info": {
   "codemirror_mode": {
    "name": "ipython",
    "version": 3
   },
   "file_extension": ".py",
   "mimetype": "text/x-python",
   "name": "python",
   "nbconvert_exporter": "python",
   "pygments_lexer": "ipython3",
   "version": "3.9.13"
  }
 },
 "nbformat": 4,
 "nbformat_minor": 5
}
