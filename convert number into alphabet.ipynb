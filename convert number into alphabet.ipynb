{
 "cells": [
  {
   "cell_type": "code",
   "execution_count": null,
   "id": "41b45e97",
   "metadata": {},
   "outputs": [],
   "source": [
    "my_dictionary={}"
   ]
  },
  {
   "cell_type": "code",
   "execution_count": 15,
   "id": "fefd18b8",
   "metadata": {},
   "outputs": [],
   "source": [
    "my_dictionary={}\n",
    "import nltk\n",
    "from nltk.tokenize import word_tokenize\n",
    "from nltk.corpus import genesis\n",
    "sample = genesis.raw(\"english-kjv.txt\")\n",
    "tok=word_tokenize(sample)\n",
    "from nltk.corpus import names\n",
    "z=names.words()\n",
    "for i in tok:\n",
    "    z.append(i)\n",
    "# to remove the duplicate value from the list\n",
    "z= [*set(z)]\n",
    "for y in z:\n",
    "    word=y.lower()\n",
    "    splited_alphabet=list(word)\n",
    "    #here we got the splitted words \n",
    "    required_alphabet=['s','z','d','t','n','m','r','l','g','j','c','k','f','v','b','p',]\n",
    "    # if a word have to two one after other continuesly so to remove that repetation\n",
    "    x=1\n",
    "    while x<len(splited_alphabet):\n",
    "        if splited_alphabet[x-1]==splited_alphabet[x]:\n",
    "            del splited_alphabet[x]\n",
    "        x+=1\n",
    "    choosed_alphabet=[]\n",
    "    for x in splited_alphabet:\n",
    "        if x in required_alphabet and x=='s' or x=='z':\n",
    "            dual=['s','z']\n",
    "            choosed_alphabet.append(dual)\n",
    "        elif x in required_alphabet and x=='d' or x=='t':\n",
    "            dual=['d','t']\n",
    "            choosed_alphabet.append(dual)\n",
    "        elif x in required_alphabet and x=='g' or x=='j':\n",
    "            dual=['g','j']\n",
    "            choosed_alphabet.append(dual)\n",
    "        elif x in required_alphabet and x=='c' or x=='k':\n",
    "            dual=['c','k']\n",
    "            choosed_alphabet.append(dual)\n",
    "        elif x in required_alphabet and x=='f' or x=='v':\n",
    "            dual=['f','v']\n",
    "            choosed_alphabet.append(dual)\n",
    "        elif x in required_alphabet and x=='b' or x=='p':\n",
    "            dual=['b','p']\n",
    "            choosed_alphabet.append(dual)\n",
    "        elif x in required_alphabet:\n",
    "            choosed_alphabet.append(x)\n",
    "        my_dictionary[word]=choosed_alphabet\n",
    "\n"
   ]
  },
  {
   "cell_type": "code",
   "execution_count": 14,
   "id": "9ddff975",
   "metadata": {},
   "outputs": [
    {
     "name": "stdout",
     "output_type": "stream",
     "text": [
      "tell me the no: 425\n",
      "Here is list found: \n",
      "['raynell', 'renel', 'renell', 'renelle']\n",
      "Do you want to search more numbers (yes/no): yes\n",
      "tell me the no: 123\n",
      "Here is list found: \n",
      "[]\n",
      "No match found\n",
      "Do you want to search more numbers (yes/no): yes\n",
      "tell me the no: 523\n",
      "Here is list found: \n",
      "[]\n",
      "No match found\n",
      "Do you want to search more numbers (yes/no): yes\n",
      "tell me the no: 426\n",
      "Here is list found: \n",
      "['waring', 'wrong', 'earring', 'ring', 'earing']\n"
     ]
    },
    {
     "ename": "KeyboardInterrupt",
     "evalue": "Interrupted by user",
     "output_type": "error",
     "traceback": [
      "\u001b[1;31m---------------------------------------------------------------------------\u001b[0m",
      "\u001b[1;31mKeyboardInterrupt\u001b[0m                         Traceback (most recent call last)",
      "Cell \u001b[1;32mIn [14], line 24\u001b[0m\n\u001b[0;32m     22\u001b[0m \u001b[38;5;28;01mif\u001b[39;00m \u001b[38;5;28mlen\u001b[39m(found_list)\u001b[38;5;241m==\u001b[39m\u001b[38;5;241m0\u001b[39m:\n\u001b[0;32m     23\u001b[0m     \u001b[38;5;28mprint\u001b[39m(\u001b[38;5;124m\"\u001b[39m\u001b[38;5;124mNo match found\u001b[39m\u001b[38;5;124m\"\u001b[39m)    \n\u001b[1;32m---> 24\u001b[0m message\u001b[38;5;241m=\u001b[39m\u001b[38;5;28;43minput\u001b[39;49m\u001b[43m(\u001b[49m\u001b[38;5;124;43m\"\u001b[39;49m\u001b[38;5;124;43mDo you want to search more numbers (yes/no): \u001b[39;49m\u001b[38;5;124;43m\"\u001b[39;49m\u001b[43m)\u001b[49m\n\u001b[0;32m     25\u001b[0m \u001b[38;5;28;01mif\u001b[39;00m message\u001b[38;5;241m==\u001b[39m\u001b[38;5;124m'\u001b[39m\u001b[38;5;124myes\u001b[39m\u001b[38;5;124m'\u001b[39m:\n\u001b[0;32m     26\u001b[0m     \u001b[38;5;28;01mcontinue\u001b[39;00m\n",
      "File \u001b[1;32m~\\Desktop\\enviroments\\myml\\lib\\site-packages\\ipykernel\\kernelbase.py:1177\u001b[0m, in \u001b[0;36mKernel.raw_input\u001b[1;34m(self, prompt)\u001b[0m\n\u001b[0;32m   1173\u001b[0m \u001b[38;5;28;01mif\u001b[39;00m \u001b[38;5;129;01mnot\u001b[39;00m \u001b[38;5;28mself\u001b[39m\u001b[38;5;241m.\u001b[39m_allow_stdin:\n\u001b[0;32m   1174\u001b[0m     \u001b[38;5;28;01mraise\u001b[39;00m StdinNotImplementedError(\n\u001b[0;32m   1175\u001b[0m         \u001b[38;5;124m\"\u001b[39m\u001b[38;5;124mraw_input was called, but this frontend does not support input requests.\u001b[39m\u001b[38;5;124m\"\u001b[39m\n\u001b[0;32m   1176\u001b[0m     )\n\u001b[1;32m-> 1177\u001b[0m \u001b[38;5;28;01mreturn\u001b[39;00m \u001b[38;5;28;43mself\u001b[39;49m\u001b[38;5;241;43m.\u001b[39;49m\u001b[43m_input_request\u001b[49m\u001b[43m(\u001b[49m\n\u001b[0;32m   1178\u001b[0m \u001b[43m    \u001b[49m\u001b[38;5;28;43mstr\u001b[39;49m\u001b[43m(\u001b[49m\u001b[43mprompt\u001b[49m\u001b[43m)\u001b[49m\u001b[43m,\u001b[49m\n\u001b[0;32m   1179\u001b[0m \u001b[43m    \u001b[49m\u001b[38;5;28;43mself\u001b[39;49m\u001b[38;5;241;43m.\u001b[39;49m\u001b[43m_parent_ident\u001b[49m\u001b[43m[\u001b[49m\u001b[38;5;124;43m\"\u001b[39;49m\u001b[38;5;124;43mshell\u001b[39;49m\u001b[38;5;124;43m\"\u001b[39;49m\u001b[43m]\u001b[49m\u001b[43m,\u001b[49m\n\u001b[0;32m   1180\u001b[0m \u001b[43m    \u001b[49m\u001b[38;5;28;43mself\u001b[39;49m\u001b[38;5;241;43m.\u001b[39;49m\u001b[43mget_parent\u001b[49m\u001b[43m(\u001b[49m\u001b[38;5;124;43m\"\u001b[39;49m\u001b[38;5;124;43mshell\u001b[39;49m\u001b[38;5;124;43m\"\u001b[39;49m\u001b[43m)\u001b[49m\u001b[43m,\u001b[49m\n\u001b[0;32m   1181\u001b[0m \u001b[43m    \u001b[49m\u001b[43mpassword\u001b[49m\u001b[38;5;241;43m=\u001b[39;49m\u001b[38;5;28;43;01mFalse\u001b[39;49;00m\u001b[43m,\u001b[49m\n\u001b[0;32m   1182\u001b[0m \u001b[43m\u001b[49m\u001b[43m)\u001b[49m\n",
      "File \u001b[1;32m~\\Desktop\\enviroments\\myml\\lib\\site-packages\\ipykernel\\kernelbase.py:1219\u001b[0m, in \u001b[0;36mKernel._input_request\u001b[1;34m(self, prompt, ident, parent, password)\u001b[0m\n\u001b[0;32m   1216\u001b[0m             \u001b[38;5;28;01mbreak\u001b[39;00m\n\u001b[0;32m   1217\u001b[0m \u001b[38;5;28;01mexcept\u001b[39;00m \u001b[38;5;167;01mKeyboardInterrupt\u001b[39;00m:\n\u001b[0;32m   1218\u001b[0m     \u001b[38;5;66;03m# re-raise KeyboardInterrupt, to truncate traceback\u001b[39;00m\n\u001b[1;32m-> 1219\u001b[0m     \u001b[38;5;28;01mraise\u001b[39;00m \u001b[38;5;167;01mKeyboardInterrupt\u001b[39;00m(\u001b[38;5;124m\"\u001b[39m\u001b[38;5;124mInterrupted by user\u001b[39m\u001b[38;5;124m\"\u001b[39m) \u001b[38;5;28;01mfrom\u001b[39;00m \u001b[38;5;28mNone\u001b[39m\n\u001b[0;32m   1220\u001b[0m \u001b[38;5;28;01mexcept\u001b[39;00m \u001b[38;5;167;01mException\u001b[39;00m:\n\u001b[0;32m   1221\u001b[0m     \u001b[38;5;28mself\u001b[39m\u001b[38;5;241m.\u001b[39mlog\u001b[38;5;241m.\u001b[39mwarning(\u001b[38;5;124m\"\u001b[39m\u001b[38;5;124mInvalid Message:\u001b[39m\u001b[38;5;124m\"\u001b[39m, exc_info\u001b[38;5;241m=\u001b[39m\u001b[38;5;28;01mTrue\u001b[39;00m)\n",
      "\u001b[1;31mKeyboardInterrupt\u001b[0m: Interrupted by user"
     ]
    }
   ],
   "source": [
    "while True:\n",
    "    number=input(\"tell me the no: \")\n",
    "    \n",
    "    all_input_numbers=list(number)\n",
    "    \n",
    "    #print(all_input_numbers)\n",
    "    \n",
    "    dictionary= {'1':['d','t'],'2':'n','3':'m','4':'r', '5':'l','6':['g','j'],'7':['c','k'],'8':['f','v'],'9':['b','p'],'0':['s','z']}\n",
    "    alphabets_chosen=[]\n",
    "    for x in all_input_numbers:\n",
    "        alphabets_chosen.append(dictionary[x])\n",
    "                \n",
    "    #print(alphabets_chosen)\n",
    "    alphabet_dictionary=my_dictionary\n",
    "    print('Here is list found: ')\n",
    "    found_list=[]\n",
    "    for k,v in  alphabet_dictionary.items():\n",
    "        if v==alphabets_chosen:\n",
    "#            print(k)\n",
    "            found_list.append(k)\n",
    "    print(found_list)\n",
    "    if len(found_list)==0:\n",
    "        print(\"No match found\")    \n",
    "    message=input(\"Do you want to search more numbers (yes/no): \")\n",
    "    if message=='yes':\n",
    "        continue\n",
    "    else:\n",
    "        break\n",
    "# 452,425,426\n",
    "\n"
   ]
  },
  {
   "cell_type": "code",
   "execution_count": null,
   "id": "c8b5c9b8",
   "metadata": {},
   "outputs": [],
   "source": [
    "z.duplicated"
   ]
  },
  {
   "cell_type": "code",
   "execution_count": 2,
   "id": "85de9804",
   "metadata": {},
   "outputs": [],
   "source": []
  },
  {
   "cell_type": "code",
   "execution_count": 12,
   "id": "9cb6b776",
   "metadata": {},
   "outputs": [
    {
     "data": {
      "text/plain": [
       "96949"
      ]
     },
     "execution_count": 12,
     "metadata": {},
     "output_type": "execute_result"
    }
   ],
   "source": [
    "yes"
   ]
  }
 ],
 "metadata": {
  "kernelspec": {
   "display_name": "Python 3 (ipykernel)",
   "language": "python",
   "name": "python3"
  },
  "language_info": {
   "codemirror_mode": {
    "name": "ipython",
    "version": 3
   },
   "file_extension": ".py",
   "mimetype": "text/x-python",
   "name": "python",
   "nbconvert_exporter": "python",
   "pygments_lexer": "ipython3",
   "version": "3.9.13"
  }
 },
 "nbformat": 4,
 "nbformat_minor": 5
}
