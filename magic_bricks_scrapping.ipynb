{
 "cells": [
  {
   "cell_type": "code",
   "execution_count": 7,
   "id": "ad92207a",
   "metadata": {},
   "outputs": [],
   "source": [
    "import pandas as pd\n",
    "import numpy as np\n",
    "import requests \n",
    "from bs4 import BeautifulSoup"
   ]
  },
  {
   "cell_type": "code",
   "execution_count": null,
   "id": "59094d18",
   "metadata": {},
   "outputs": [],
   "source": [
    "url=\"\"\n",
    "r = requests.get(\"https://www.99acres.com/search/property/lease/noida?city=7&property_type=91&includeCoworking=true&preference=L&area_unit=1&res_com=C\")"
   ]
  }
 ],
 "metadata": {
  "kernelspec": {
   "display_name": "Python 3 (ipykernel)",
   "language": "python",
   "name": "python3"
  },
  "language_info": {
   "codemirror_mode": {
    "name": "ipython",
    "version": 3
   },
   "file_extension": ".py",
   "mimetype": "text/x-python",
   "name": "python",
   "nbconvert_exporter": "python",
   "pygments_lexer": "ipython3",
   "version": "3.9.13"
  }
 },
 "nbformat": 4,
 "nbformat_minor": 5
}
