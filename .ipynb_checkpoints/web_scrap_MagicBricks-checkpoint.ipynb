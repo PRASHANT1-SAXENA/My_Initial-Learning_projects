{
 "cells": [
  {
   "cell_type": "code",
   "execution_count": 1,
   "id": "7d947f62",
   "metadata": {},
   "outputs": [],
   "source": [
    "import requests\n",
    "import pandas as pd\n",
    "import numpy as np\n",
    "import requests\n",
    "from bs4 import BeautifulSoup\n",
    "import csv"
   ]
  },
  {
   "cell_type": "markdown",
   "id": "0b3bfa41",
   "metadata": {},
   "source": [
    "https://www.magicbricks.com/mbsrp/propertySearch.html?editSearch=Y&category=R&propertyType=10002,10003,10021,10022,10020,10001,10017,10007,10018,10008,10009,10006,10012,10026,10011,10013,10014&bedrooms=11700,11701,11702,11703&city=3327&page={page_start}&groupstart={group_range}&offset=0&maxOffset=656&sortBy=premiumRecent&postedSince=-1&pType=10002,10003,10021,10022,10020,10001,10017,10007,10018,10008,10009,10006,10012,10026,10011,10013,10014&isNRI=N&multiLang=en\n",
    "url_2\n",
    "https://www.magicbricks.com/mbsrp/propertySearch.html?editSearch=Y&category=R&propertyType=10002,10003,10021,10022,10020,10001,10017&bedrooms=11700,11701,11702,11703,11704,11705,11706,11707,11708,11709,11710&city=3327&page={page_start}&groupstart={group_range}&offset=0&maxOffset=658&sortBy=premiumRecent&postedSince=-1&pType=10002,10003,10021,10022,10020,10001,10017&shared=Y&isNRI=N&multiLang=en\n"
   ]
  },
  {
   "cell_type": "code",
   "execution_count": 2,
   "id": "3a458461",
   "metadata": {},
   "outputs": [
    {
     "name": "stdout",
     "output_type": "stream",
     "text": [
      "1 round, Id- 64003529\n",
      "2 round, Id- 62629407\n",
      "3 round, Id- 28828361\n",
      "got it\n",
      "60165697 60165697\n",
      "863\n",
      "page_end:  863\n"
     ]
    }
   ],
   "source": [
    "page_start=860\n",
    "group_range=(page_start*30)-30\n",
    "page_stop=870\n",
    "itera=1\n",
    "\n",
    "for pg in range(page_start,page_stop):\n",
    "    url=f\"https://www.magicbricks.com/mbsrp/propertySearch.html?editSearch=Y&category=R&propertyType=10002,10003,10021,10022,10020,10001,10017,10007,10018,10008,10009,10006,10012,10026,10011,10013,10014&city=3327&page={page_start}&groupstart={group_range}&offset=0&maxOffset=658&sortBy=premiumRecent&postedSince=-1&pType=10002,10003,10021,10022,10020,10001,10017&shared=Y&isNRI=N&multiLang=en\"\n",
    "    r=requests.get(url)\n",
    "    data=r.json()\n",
    "    a=[]\n",
    "    for result in data[\"resultList\"]:\n",
    "        a.append(result[\"id\"])\n",
    "    t1=a[0]\n",
    "    url=f\"https://www.magicbricks.com/mbsrp/propertySearch.html?editSearch=Y&category=R&propertyType=10002,10003,10021,10022,10020,10001,10017,10007,10018,10008,10009,10006,10012,10026,10011,10013,10014&city=3327&page={page_start+1}&groupstart={group_range+30}&offset=0&maxOffset=658&sortBy=premiumRecent&postedSince=-1&pType=10002,10003,10021,10022,10020,10001,10017&shared=Y&isNRI=N&multiLang=en\"\n",
    "    \n",
    "    r=requests.get(url)\n",
    "    data=r.json()\n",
    "    b=[]\n",
    "    for result in data[\"resultList\"]:\n",
    "        b.append(result[\"id\"])\n",
    "    t2=b[0]\n",
    "    if t1==t2:\n",
    "        print(\"got it\")\n",
    "        print(t1,t2)\n",
    "        print(page_start)\n",
    "        page_end=page_start\n",
    "        print(\"page_end: \",page_end)\n",
    "        break\n",
    "    else:\n",
    "        page_start=page_start+1\n",
    "        group_range=group_range+30\n",
    "        print(itera,\"round, Id-\",t1)\n",
    "        itera=itera+1\n",
    "        "
   ]
  },
  {
   "cell_type": "code",
   "execution_count": 3,
   "id": "4f44a5cd",
   "metadata": {},
   "outputs": [
    {
     "data": {
      "text/plain": [
       "863"
      ]
     },
     "execution_count": 3,
     "metadata": {},
     "output_type": "execute_result"
    }
   ],
   "source": [
    "page_end"
   ]
  },
  {
   "cell_type": "code",
   "execution_count": 21,
   "id": "0d889745",
   "metadata": {},
   "outputs": [],
   "source": [
    "mgb = {\"unique_id\":[],\"City\":[],\"Property_Name\":[],\"Rent_price\":[],\"Property_Address\":[],\"CarpetArea\":[],\n",
    "       \"CarpetAreaUnit\":[],\"CoveredArea\":[],\"CoveredAreaUnit\":[],\"latitude\":[],\"longitude\":[],\"Post_date\":[],\"url\":[]}\n"
   ]
  },
  {
   "cell_type": "code",
   "execution_count": 25,
   "id": "ca8a5837",
   "metadata": {
    "scrolled": false
   },
   "outputs": [
    {
     "name": "stdout",
     "output_type": "stream",
     "text": [
      "Page complete --  3\n",
      "Page complete --  4\n"
     ]
    }
   ],
   "source": [
    "page_start=3\n",
    "group_range=(page_start*30)-30\n",
    "page_stop=5\n",
    "\n",
    "for pg in range(page_start,page_stop):\n",
    "    url=f\"https://www.magicbricks.com/mbsrp/propertySearch.html?editSearch=Y&category=R&propertyType=10002,10003,10021,10022,10020,10001,10017&bedrooms=11700,11701,11702,11703,11704,11705,11706,11707,11708,11709,11710&city=3327&page={page_start}&groupstart={group_range}&offset=0&maxOffset=658&sortBy=premiumRecent&postedSince=-1&pType=10002,10003,10021,10022,10020,10001,10017&shared=Y&isNRI=N&multiLang=en\"\n",
    "    r=requests.get(url)\n",
    "    data=r.json()\n",
    "    for result in data[\"resultList\"]:\n",
    "        try:\n",
    "            mgb[\"unique_id\"].append(result[\"id\"])\n",
    "        except:\n",
    "            mgb[\"unique_id\"].append(np.nan)\n",
    "         \n",
    "        try:\n",
    "            corr=result[\"ltcoordGeo\"].split(\",\")\n",
    "            mgb[\"latitude\"].append(corr[0])\n",
    "            mgb[\"longitude\"].append(corr[1])\n",
    "        except:\n",
    "            mgb[\"latitude\"].append(np.nan)\n",
    "            mgb[\"longitude\"].append(np.nan)\n",
    "            \n",
    "        try:\n",
    "            mgb[\"Rent_price\"].append(result[\"price\"])\n",
    "        except:\n",
    "            mgb[\"Rent_price\"].append(np.nan) \n",
    "            \n",
    "        try:\n",
    "            mgb[\"CarpetArea\"].append(result[\"carpetArea\"])\n",
    "            mgb[\"CarpetAreaUnit\"].append(\"Sq-ft\")\n",
    "        except:\n",
    "            mgb[\"CarpetArea\"].append(np.nan)\n",
    "            mgb[\"CarpetAreaUnit\"].append(np.nan)\n",
    "            \n",
    "        try:\n",
    "            mgb[\"CoveredArea\"].append(result[\"coveredArea\"])\n",
    "            mgb[\"CoveredAreaUnit\"].append(\"Sq-ft\")\n",
    "        except:\n",
    "            mgb[\"CoveredArea\"].append(np.nan)\n",
    "            mgb[\"CoveredAreaUnit\"].append(np.nan)\n",
    "        try:\n",
    "            mgb[\"City\"].append(result[\"ctName\"])\n",
    "        except:\n",
    "            mgb[\"City\"].append(np.nan)\n",
    "            \n",
    "        \n",
    "        try:\n",
    "            mgb[\"Property_Name\"].append(result[\"propertyTitle\"])\n",
    "        except:\n",
    "             mgb[\"Property_Name\"].append(np.nan)\n",
    "                \n",
    "        try:\n",
    "            fetch_url = result[\"url\"]\n",
    "            url_link = f\"https://www.magicbricks.com/propertyDetails/{fetch_url}\"\n",
    "            mgb[\"url\"].append(url_link)\n",
    "        except:\n",
    "             mgb[\"url\"].append(np.nan)\n",
    "\n",
    "        try:\n",
    "            r = requests.get(url_link).text\n",
    "            soup = BeautifulSoup(r, \"lxml\")\n",
    "            for i in range(0,5):\n",
    "                title=soup.find_all(\"div\", class_=\"mb-ldp__more-dtl__list--label\")[i].text\n",
    "                if title==\"Address\":\n",
    "                    address = soup.find_all(\"div\", class_=\"mb-ldp__more-dtl__list--value\")[i].text\n",
    "                    mgb[\"Property_Address\"].append(address)\n",
    "                    break\n",
    "                else:\n",
    "                   continue\n",
    "        except:\n",
    "            mgb[\"Property_Address\"].append(np.nan)\n",
    "            \n",
    "        try:\n",
    "            mgb[\"Post_date\"].append(result[\"postDateT\"][0:10])\n",
    "        except:\n",
    "            mgb[\"Post_date\"].append(np.nan)\n",
    "    print(\"Page complete -- \",page_start)\n",
    "    page_start=page_start+1    \n",
    "    group_range=group_range+30\n",
    "   "
   ]
  },
  {
   "cell_type": "code",
   "execution_count": null,
   "id": "035f4f86",
   "metadata": {},
   "outputs": [],
   "source": []
  },
  {
   "cell_type": "code",
   "execution_count": 27,
   "id": "eb98510c",
   "metadata": {},
   "outputs": [
    {
     "name": "stdout",
     "output_type": "stream",
     "text": [
      "(120, 13)\n"
     ]
    },
    {
     "data": {
      "text/plain": [
       "0      False\n",
       "1       True\n",
       "2       True\n",
       "3       True\n",
       "4       True\n",
       "5       True\n",
       "6       True\n",
       "7       True\n",
       "8       True\n",
       "9       True\n",
       "10      True\n",
       "11      True\n",
       "12      True\n",
       "13      True\n",
       "14      True\n",
       "15      True\n",
       "16      True\n",
       "17      True\n",
       "18      True\n",
       "19      True\n",
       "20      True\n",
       "21      True\n",
       "22      True\n",
       "23      True\n",
       "24      True\n",
       "25      True\n",
       "26      True\n",
       "27      True\n",
       "28      True\n",
       "29      True\n",
       "30      True\n",
       "31      True\n",
       "32      True\n",
       "33      True\n",
       "34      True\n",
       "35      True\n",
       "36      True\n",
       "37      True\n",
       "38      True\n",
       "39      True\n",
       "40      True\n",
       "41      True\n",
       "42      True\n",
       "43      True\n",
       "44      True\n",
       "45      True\n",
       "46      True\n",
       "47      True\n",
       "48      True\n",
       "49      True\n",
       "50      True\n",
       "51      True\n",
       "52      True\n",
       "53      True\n",
       "54      True\n",
       "55      True\n",
       "56      True\n",
       "57      True\n",
       "58      True\n",
       "59      True\n",
       "60      True\n",
       "61      True\n",
       "62      True\n",
       "63      True\n",
       "64      True\n",
       "65      True\n",
       "66      True\n",
       "67      True\n",
       "68      True\n",
       "69      True\n",
       "70      True\n",
       "71      True\n",
       "72      True\n",
       "73      True\n",
       "74      True\n",
       "75      True\n",
       "76      True\n",
       "77      True\n",
       "78      True\n",
       "79      True\n",
       "80      True\n",
       "81      True\n",
       "82      True\n",
       "83      True\n",
       "84      True\n",
       "85      True\n",
       "86      True\n",
       "87      True\n",
       "88      True\n",
       "89      True\n",
       "90      True\n",
       "91      True\n",
       "92      True\n",
       "93      True\n",
       "94      True\n",
       "95      True\n",
       "96      True\n",
       "97      True\n",
       "98      True\n",
       "99      True\n",
       "100     True\n",
       "101     True\n",
       "102     True\n",
       "103     True\n",
       "104     True\n",
       "105     True\n",
       "106     True\n",
       "107     True\n",
       "108     True\n",
       "109     True\n",
       "110     True\n",
       "111     True\n",
       "112     True\n",
       "113     True\n",
       "114     True\n",
       "115     True\n",
       "116     True\n",
       "117     True\n",
       "118     True\n",
       "119     True\n",
       "Name: City, dtype: bool"
      ]
     },
     "execution_count": 27,
     "metadata": {},
     "output_type": "execute_result"
    }
   ],
   "source": [
    "pd.set_option(\"display.max_rows\",500)\n",
    "pd.set_option(\"display.max_columns\",500)\n",
    "mgb_f=pd.DataFrame(mgb)\n",
    "print(mgb_f.shape)\n",
    "mgb_f[\"City\"].duplicated()\n"
   ]
  },
  {
   "cell_type": "code",
   "execution_count": 99,
   "id": "1e80c8bd",
   "metadata": {},
   "outputs": [
    {
     "name": "stdout",
     "output_type": "stream",
     "text": [
      "0 30\n",
      "1 30\n",
      "2 30\n",
      "3 30\n",
      "4 30\n",
      "5 30\n",
      "6 30\n",
      "7 30\n",
      "8 30\n",
      "9 30\n",
      "10 30\n",
      "11 30\n",
      "12 30\n"
     ]
    }
   ],
   "source": [
    "for i,j in enumerate(mgb.keys()):\n",
    "    print(i,len(mgb[j]))"
   ]
  },
  {
   "cell_type": "code",
   "execution_count": 19,
   "id": "0f83e56d",
   "metadata": {},
   "outputs": [
    {
     "data": {
      "text/plain": [
       "Index(['unique_id', 'City', 'Property_Name', 'Rent_price', 'Property_Address',\n",
       "       'CarpetArea', 'CarpetAreaUnit', 'CoveredArea', 'CoveredAreaUnit',\n",
       "       'latitude', 'longitude', 'Post_date', 'url'],\n",
       "      dtype='object')"
      ]
     },
     "execution_count": 19,
     "metadata": {},
     "output_type": "execute_result"
    }
   ],
   "source": [
    "mgb_f.columns"
   ]
  },
  {
   "cell_type": "code",
   "execution_count": 6,
   "id": "c7394121",
   "metadata": {},
   "outputs": [
    {
     "name": "stdout",
     "output_type": "stream",
     "text": [
      "3BHK Multistorey Apartment for Rent in Karle Zenith at Hebbal\n",
      "https://www.magicbricks.com/propertyDetails/3-BHK-1350-Sq-ft-Multistorey-Apartment-FOR-Rent-Hoskote-in-Bangalore-r1&id=4d423436303631303939\n",
      "https://www.magicbricks.com/propertyDetails/3-BHK-1890-Sq-ft-Multistorey-Apartment-FOR-Rent-Sena-Vihar-in-Bangalore&id=4d423631363234363431\n",
      "https://www.magicbricks.com/propertyDetails/3-BHK-3210-Sq-ft-Multistorey-Apartment-FOR-Rent-Hebbal-in-Bangalore&id=4d423634333034313135\n"
     ]
    }
   ],
   "source": [
    "print(mgb[\"Property_Name\"][19])\n",
    "print(mgb[\"url\"][0])\n",
    "print(mgb[\"url\"][1])\n",
    "print(mgb[\"url\"][2])"
   ]
  },
  {
   "cell_type": "code",
   "execution_count": 5,
   "id": "aebc5d15",
   "metadata": {},
   "outputs": [
    {
     "data": {
      "text/plain": [
       "unique_id            0\n",
       "City                 0\n",
       "Property_Name        0\n",
       "Rent_price           0\n",
       "Property_Address     0\n",
       "CarpetArea          32\n",
       "CarpetAreaUnit      32\n",
       "CoveredArea          0\n",
       "CoveredAreaUnit      0\n",
       "latitude             4\n",
       "longitude            4\n",
       "Post_date            0\n",
       "url                  0\n",
       "dtype: int64"
      ]
     },
     "execution_count": 5,
     "metadata": {},
     "output_type": "execute_result"
    }
   ],
   "source": [
    "pd.set_option(\"display.max_rows\",500)\n",
    "mgb_f.isna().sum()"
   ]
  },
  {
   "cell_type": "code",
   "execution_count": 96,
   "id": "1a39d2d0",
   "metadata": {},
   "outputs": [],
   "source": [
    "mgb_f.to_csv(\"magic_bricks_extract.csv\")"
   ]
  },
  {
   "cell_type": "code",
   "execution_count": 14,
   "id": "b3912231",
   "metadata": {},
   "outputs": [
    {
     "name": "stdout",
     "output_type": "stream",
     "text": [
      "48000\n",
      "16000\n",
      "29500\n",
      "26000\n",
      "30000\n",
      "120000\n",
      "60000\n",
      "133000\n",
      "33000\n",
      "52000\n",
      "45000\n",
      "60000\n",
      "44500\n",
      "140000\n",
      "55000\n",
      "135000\n",
      "20000\n",
      "400000\n",
      "300000\n",
      "24000\n",
      "37000\n",
      "9000\n",
      "20000\n",
      "77000\n",
      "35000\n",
      "26000\n",
      "65000\n",
      "240000\n",
      "200000\n",
      "54000\n"
     ]
    }
   ],
   "source": [
    "url_2=\"https://www.magicbricks.com/mbsrp/propertySearch.html?editSearch=Y&category=R&propertyType=10002,10003,10021,10022,10020,10001,10017,10007,10018,10008,10009,10006,10012,10026,10011,10013,10014&bedrooms=11700,11701,11702,11703&city=3327&page=2&groupstart=30&offset=0&maxOffset=656&sortBy=premiumRecent&postedSince=-1&pType=10002,10003,10021,10022,10020,10001,10017,10007,10018,10008,10009,10006,10012,10026,10011,10013,10014&isNRI=N&multiLang=en\"\n",
    "url_1=\"https://www.magicbricks.com/mbsrp/propertySearch.html?editSearch=Y&category=R&propertyType=10002,10003,10021,10022,10020,10001,10017,10007,10018,10008,10009,10006,10012,10026,10011,10013,10014&bedrooms=11700,11701,11702,11703&city=3327&page=1&groupstart=0&offset=0&maxOffset=656&sortBy=premiumRecent&postedSince=-1&pType=10002,10003,10021,10022,10020,10001,10017,10007,10018,10008,10009,10006,10012,10026,10011,10013,10014&isNRI=N&multiLang=en\"\n",
    "ad=[]\n",
    "r=requests.get(url_2)\n",
    "data=r.json()\n",
    "for result in data[\"resultList\"]:\n",
    "    print(result[\"price\"])\n",
    "       "
   ]
  },
  {
   "cell_type": "code",
   "execution_count": 78,
   "id": "30e626f0",
   "metadata": {},
   "outputs": [
    {
     "data": {
      "text/plain": [
       "29"
      ]
     },
     "execution_count": 78,
     "metadata": {},
     "output_type": "execute_result"
    }
   ],
   "source": [
    "len(ad)"
   ]
  },
  {
   "cell_type": "code",
   "execution_count": 60,
   "id": "1b966d3e",
   "metadata": {},
   "outputs": [
    {
     "name": "stdout",
     "output_type": "stream",
     "text": [
      "https://www.magicbricks.com/mbsrp/propertySearch.html?editSearch=Y&category=R&propertyType=10002,10003,10021,10022,10020,10001,10017,10007,10018,10008,10009,10006,10012,10026,10011,10013,10014&bedrooms=11700,11701,11702,11703&city=3327&page=890&groupstart=26670&offset=0&maxOffset=656&sortBy=premiumRecent&postedSince=-1&pType=10002,10003,10021,10022,10020,10001,10017,10007,10018,10008,10009,10006,10012,10026,10011,10013,10014&isNRI=N&multiLang=en\n",
      "\n"
     ]
    }
   ],
   "source": [
    "page_start=890\n",
    "group_range=(page_start*30)-30\n",
    "page_stop=891\n",
    "\n",
    "for pg in range(page_start,page_stop):\n",
    "    url=f\"https://www.magicbricks.com/mbsrp/propertySearch.html?editSearch=Y&category=R&propertyType=10002,10003,10021,10022,10020,10001,10017,10007,10018,10008,10009,10006,10012,10026,10011,10013,10014&bedrooms=11700,11701,11702,11703&city=3327&page={page_start}&groupstart={group_range}&offset=0&maxOffset=656&sortBy=premiumRecent&postedSince=-1&pType=10002,10003,10021,10022,10020,10001,10017,10007,10018,10008,10009,10006,10012,10026,10011,10013,10014&isNRI=N&multiLang=en\\n\"\n",
    "   \n",
    "    page_start=page_start+1\n",
    "    group_range=group_range+30\n",
    "    print(url)"
   ]
  },
  {
   "cell_type": "code",
   "execution_count": null,
   "id": "8b6ffbd4",
   "metadata": {},
   "outputs": [],
   "source": []
  }
 ],
 "metadata": {
  "kernelspec": {
   "display_name": "Python 3 (ipykernel)",
   "language": "python",
   "name": "python3"
  },
  "language_info": {
   "codemirror_mode": {
    "name": "ipython",
    "version": 3
   },
   "file_extension": ".py",
   "mimetype": "text/x-python",
   "name": "python",
   "nbconvert_exporter": "python",
   "pygments_lexer": "ipython3",
   "version": "3.9.13"
  }
 },
 "nbformat": 4,
 "nbformat_minor": 5
}
