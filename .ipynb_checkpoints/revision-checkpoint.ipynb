{
 "cells": [
  {
   "cell_type": "code",
   "execution_count": 6,
   "id": "6980a1f7",
   "metadata": {},
   "outputs": [],
   "source": [
    "import pandas as pd\n",
    "import numpy as np"
   ]
  },
  {
   "cell_type": "code",
   "execution_count": 1,
   "id": "52523cc9",
   "metadata": {},
   "outputs": [
    {
     "name": "stdout",
     "output_type": "stream",
     "text": [
      "my address is 30\n"
     ]
    }
   ],
   "source": [
    "a=30\n",
    "print(f'my address is {a}')"
   ]
  },
  {
   "cell_type": "code",
   "execution_count": 4,
   "id": "4e38a7e6",
   "metadata": {},
   "outputs": [],
   "source": [
    "import warnings \n",
    "warnings.filterwarnings(\"ignore\")"
   ]
  },
  {
   "cell_type": "code",
   "execution_count": 12,
   "id": "42c0b778",
   "metadata": {},
   "outputs": [],
   "source": [
    "pd.set_option(\"display.max_column\",500)"
   ]
  },
  {
   "cell_type": "code",
   "execution_count": 14,
   "id": "8774e04c",
   "metadata": {},
   "outputs": [
    {
     "data": {
      "text/plain": [
       "'fjkjdfdj'"
      ]
     },
     "execution_count": 14,
     "metadata": {},
     "output_type": "execute_result"
    }
   ],
   "source": [
    "\"\"\"fjkjdfdj\"\"\""
   ]
  },
  {
   "cell_type": "code",
   "execution_count": 19,
   "id": "ac44abcb",
   "metadata": {},
   "outputs": [],
   "source": [
    "#to take help\n",
    "help(np.arange)"
   ]
  },
  {
   "cell_type": "code",
   "execution_count": 34,
   "id": "5e471a79",
   "metadata": {},
   "outputs": [
    {
     "name": "stdout",
     "output_type": "stream",
     "text": [
      "my value is 456.5785 is not my value\n"
     ]
    }
   ],
   "source": [
    "a=456.57852\n",
    "print(\"my value is {0:.4f} is not my value\".format(a))"
   ]
  }
 ],
 "metadata": {
  "kernelspec": {
   "display_name": "Python 3 (ipykernel)",
   "language": "python",
   "name": "python3"
  },
  "language_info": {
   "codemirror_mode": {
    "name": "ipython",
    "version": 3
   },
   "file_extension": ".py",
   "mimetype": "text/x-python",
   "name": "python",
   "nbconvert_exporter": "python",
   "pygments_lexer": "ipython3",
   "version": "3.9.13"
  }
 },
 "nbformat": 4,
 "nbformat_minor": 5
}
