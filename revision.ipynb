{
 "cells": [
  {
   "cell_type": "code",
   "execution_count": 6,
   "id": "945e91c6",
   "metadata": {},
   "outputs": [],
   "source": [
    "import pandas as pd\n",
    "import numpy as np"
   ]
  },
  {
   "cell_type": "code",
   "execution_count": 1,
   "id": "cb6772ad",
   "metadata": {},
   "outputs": [
    {
     "name": "stdout",
     "output_type": "stream",
     "text": [
      "my address is 30\n"
     ]
    }
   ],
   "source": [
    "a=30\n",
    "print(f'my address is {a}')"
   ]
  },
  {
   "cell_type": "code",
   "execution_count": 4,
   "id": "e4da06d0",
   "metadata": {},
   "outputs": [],
   "source": [
    "import warnings \n",
    "warnings.filterwarnings(\"ignore\")"
   ]
  },
  {
   "cell_type": "code",
   "execution_count": 12,
   "id": "b9c1ef67",
   "metadata": {},
   "outputs": [],
   "source": [
    "pd.set_option(\"display.max_column\",500)"
   ]
  },
  {
   "cell_type": "code",
   "execution_count": 14,
   "id": "eb625ac5",
   "metadata": {},
   "outputs": [
    {
     "data": {
      "text/plain": [
       "'fjkjdfdj'"
      ]
     },
     "execution_count": 14,
     "metadata": {},
     "output_type": "execute_result"
    }
   ],
   "source": [
    "\"\"\"fjkjdfdj\"\"\""
   ]
  },
  {
   "cell_type": "code",
   "execution_count": 19,
   "id": "b98bdfd5",
   "metadata": {},
   "outputs": [],
   "source": [
    "#to take help\n",
    "help(np.arange)"
   ]
  },
  {
   "cell_type": "code",
   "execution_count": 35,
   "id": "cec1588c",
   "metadata": {},
   "outputs": [
    {
     "name": "stdout",
     "output_type": "stream",
     "text": [
      "my value is 456.5785 is not my value\n"
     ]
    }
   ],
   "source": [
    "a=456.57852\n",
    "print(\"my value is {0:.4f} is not my value\".format(a))"
   ]
  },
  {
   "cell_type": "code",
   "execution_count": 3,
   "id": "50da5d4f",
   "metadata": {},
   "outputs": [
    {
     "data": {
      "text/plain": [
       "456.58"
      ]
     },
     "execution_count": 3,
     "metadata": {},
     "output_type": "execute_result"
    }
   ],
   "source": [
    "a=456.57852\n",
    "x=round(a,2)\n",
    "x"
   ]
  },
  {
   "cell_type": "code",
   "execution_count": 12,
   "id": "89d1c805",
   "metadata": {},
   "outputs": [
    {
     "data": {
      "text/plain": [
       "'24-2023-02'"
      ]
     },
     "execution_count": 12,
     "metadata": {},
     "output_type": "execute_result"
    }
   ],
   "source": [
    "from datetime import date\n",
    "x=date.today()\n",
    "x.strftime(\"%d-%Y-%m\")  "
   ]
  },
  {
   "cell_type": "code",
   "execution_count": 19,
   "id": "d9988d63",
   "metadata": {},
   "outputs": [
    {
     "data": {
      "text/plain": [
       "'24-2023-02-15-55-40'"
      ]
     },
     "execution_count": 19,
     "metadata": {},
     "output_type": "execute_result"
    }
   ],
   "source": [
    "from datetime import datetime\n",
    "x=datetime.now()\n",
    "x.strftime(\"%d-%Y-%m-%H-%M-%S\") "
   ]
  },
  {
   "cell_type": "code",
   "execution_count": 25,
   "id": "fb59e73d",
   "metadata": {},
   "outputs": [
    {
     "data": {
      "text/plain": [
       "'hard,c ,odeprogrammer'"
      ]
     },
     "execution_count": 25,
     "metadata": {},
     "output_type": "execute_result"
    }
   ],
   "source": [
    "first_string=\"h, ard,c ,ode, p, rogr, ammer\"\n",
    "z=first_string.replace(\", \",\"\")\n",
    "z"
   ]
  },
  {
   "cell_type": "code",
   "execution_count": 32,
   "id": "9c5dbfc7",
   "metadata": {},
   "outputs": [
    {
     "data": {
      "text/plain": [
       "'yhn'"
      ]
     },
     "execution_count": 32,
     "metadata": {},
     "output_type": "execute_result"
    }
   ],
   "source": [
    "s=\" python is the name \"\n",
    "s[2:7:2]"
   ]
  },
  {
   "cell_type": "code",
   "execution_count": 37,
   "id": "9c9fd282",
   "metadata": {},
   "outputs": [
    {
     "data": {
      "text/plain": [
       "{3, 4, 5, 8, 9}"
      ]
     },
     "execution_count": 37,
     "metadata": {},
     "output_type": "execute_result"
    }
   ],
   "source": [
    "list_1=[5,8,9,5,4,3]\n",
    "z=set(list_1)\n",
    "z"
   ]
  },
  {
   "cell_type": "code",
   "execution_count": 50,
   "id": "cb635c28",
   "metadata": {},
   "outputs": [
    {
     "name": "stdout",
     "output_type": "stream",
     "text": [
      "welcome to python\n"
     ]
    }
   ],
   "source": [
    "s=\"welcome\"\n",
    "s1=\"to python\"\n",
    "z=print(\" \".join([s,s1]))\n",
    "z"
   ]
  },
  {
   "cell_type": "code",
   "execution_count": 61,
   "id": "d92670c5",
   "metadata": {},
   "outputs": [
    {
     "data": {
      "text/plain": [
       "8"
      ]
     },
     "execution_count": 61,
     "metadata": {},
     "output_type": "execute_result"
    }
   ],
   "source": [
    "s1.find(\"n\")"
   ]
  },
  {
   "cell_type": "code",
   "execution_count": 73,
   "id": "e002082b",
   "metadata": {},
   "outputs": [
    {
     "data": {
      "text/plain": [
       "[18, 86, 64, 32, 41, 49]"
      ]
     },
     "execution_count": 73,
     "metadata": {},
     "output_type": "execute_result"
    }
   ],
   "source": [
    "a=[18,64,32,41,49] \n",
    "a.insert(1,86)\n",
    "a"
   ]
  },
  {
   "cell_type": "code",
   "execution_count": null,
   "id": "d9678057",
   "metadata": {},
   "outputs": [],
   "source": []
  }
 ],
 "metadata": {
  "kernelspec": {
   "display_name": "Python 3 (ipykernel)",
   "language": "python",
   "name": "python3"
  },
  "language_info": {
   "codemirror_mode": {
    "name": "ipython",
    "version": 3
   },
   "file_extension": ".py",
   "mimetype": "text/x-python",
   "name": "python",
   "nbconvert_exporter": "python",
   "pygments_lexer": "ipython3",
   "version": "3.9.13"
  }
 },
 "nbformat": 4,
 "nbformat_minor": 5
}
