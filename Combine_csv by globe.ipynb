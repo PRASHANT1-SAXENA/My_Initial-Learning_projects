{
 "cells": [
  {
   "cell_type": "code",
   "execution_count": 11,
   "id": "a40c498b",
   "metadata": {},
   "outputs": [],
   "source": [
    "import glob\n",
    "import pandas as pd"
   ]
  },
  {
   "cell_type": "code",
   "execution_count": 12,
   "id": "87a6f509",
   "metadata": {},
   "outputs": [],
   "source": [
    "m_csv=glob.glob(r'C:\\Users\\chemi\\Desktop\\Magicbricks_all'+'/*.csv',)"
   ]
  },
  {
   "cell_type": "code",
   "execution_count": 13,
   "id": "98ce39f3",
   "metadata": {},
   "outputs": [],
   "source": [
    "df_list = (pd.read_csv(file) for file in m_csv)\n",
    "df1  = pd.concat(df_list, ignore_index=True)"
   ]
  },
  {
   "cell_type": "code",
   "execution_count": 14,
   "id": "f2c66d55",
   "metadata": {},
   "outputs": [],
   "source": [
    "df1.to_csv(r'C:\\Users\\chemi\\Desktop\\save_csv\\‪magic_bricks_all_cities.csv')"
   ]
  },
  {
   "cell_type": "code",
   "execution_count": null,
   "id": "697bc945",
   "metadata": {},
   "outputs": [],
   "source": []
  }
 ],
 "metadata": {
  "kernelspec": {
   "display_name": "Python 3 (ipykernel)",
   "language": "python",
   "name": "python3"
  },
  "language_info": {
   "codemirror_mode": {
    "name": "ipython",
    "version": 3
   },
   "file_extension": ".py",
   "mimetype": "text/x-python",
   "name": "python",
   "nbconvert_exporter": "python",
   "pygments_lexer": "ipython3",
   "version": "3.9.13"
  }
 },
 "nbformat": 4,
 "nbformat_minor": 5
}
